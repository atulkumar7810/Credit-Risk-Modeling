{
 "cells": [
  {
   "cell_type": "code",
   "execution_count": 1,
   "id": "de048e2d",
   "metadata": {},
   "outputs": [],
   "source": [
    "# Import the libraries\n",
    "import os\n",
    "import warnings\n",
    "import numpy as np\n",
    "import pandas as pd\n",
    "import matplotlib.pyplot as plt\n",
    "from sklearn.metrics import r2_score, accuracy_score, classification_report, precision_recall_fscore_support\n",
    "from scipy.stats import chi2_contingency\n",
    "from statsmodels.stats.outliers_influence import variance_inflation_factor\n",
    "from sklearn.model_selection import train_test_split\n",
    "from sklearn.ensemble import RandomForestClassifier\n",
    "from sklearn.preprocessing import OrdinalEncoder\n",
    "from sklearn.compose import ColumnTransformer"
   ]
  },
  {
   "cell_type": "code",
   "execution_count": 2,
   "id": "1a7dda89",
   "metadata": {},
   "outputs": [],
   "source": [
    "# datasets\n",
    "df1 = pd.read_excel('./data/case_study1.xlsx')\n",
    "df2 = pd.read_excel('./data/case_study2.xlsx')\n",
    "\n",
    "# make a copy of dataset\n",
    "dt1 = df1.copy()\n",
    "dt2 = df2.copy()"
   ]
  },
  {
   "cell_type": "markdown",
   "id": "39f912be",
   "metadata": {},
   "source": [
    "# Missing values Imputation and Removal"
   ]
  },
  {
   "cell_type": "code",
   "execution_count": 3,
   "id": "f9f80a2e",
   "metadata": {},
   "outputs": [
    {
     "data": {
      "text/plain": [
       "40"
      ]
     },
     "execution_count": 3,
     "metadata": {},
     "output_type": "execute_result"
    }
   ],
   "source": [
    "# df1 has co-occurring missing values in Age_Oldest_TL and Age_Newest_TL\n",
    "df1[df1['Age_Oldest_TL'] == -99999].shape[0]"
   ]
  },
  {
   "cell_type": "code",
   "execution_count": 4,
   "id": "93491fc7",
   "metadata": {},
   "outputs": [],
   "source": [
    "# Drop the rows as it only has 41 missing rows\n",
    "df1 = df1.loc[df1['Age_Oldest_TL'] != -99999] # -99999 Represents the null values"
   ]
  },
  {
   "cell_type": "markdown",
   "id": "49199c5f",
   "metadata": {},
   "source": [
    "Let's clean up df2 by getting rid of columns that have more than 10,000 missing values, which is over 20% of the data. It's important not to mess too much with the sensitive info, because if we try to fill in more than 20% of the missing stuff, it might mess up how everything is spread out."
   ]
  },
  {
   "cell_type": "code",
   "execution_count": 5,
   "id": "8474b0d2",
   "metadata": {},
   "outputs": [],
   "source": [
    "col_to_drop = []\n",
    "\n",
    "for i in df2.columns:\n",
    "    if df2.loc[df2[i] == -99999].shape[0] > 10000:\n",
    "        col_to_drop.append(i)"
   ]
  },
  {
   "cell_type": "code",
   "execution_count": 6,
   "id": "8aad9fc7",
   "metadata": {},
   "outputs": [
    {
     "data": {
      "text/plain": [
       "['time_since_first_deliquency',\n",
       " 'time_since_recent_deliquency',\n",
       " 'max_delinquency_level',\n",
       " 'max_deliq_6mts',\n",
       " 'max_deliq_12mts',\n",
       " 'CC_utilization',\n",
       " 'PL_utilization',\n",
       " 'max_unsec_exposure_inPct']"
      ]
     },
     "execution_count": 6,
     "metadata": {},
     "output_type": "execute_result"
    }
   ],
   "source": [
    "col_to_drop"
   ]
  },
  {
   "cell_type": "code",
   "execution_count": 7,
   "id": "d3014281",
   "metadata": {},
   "outputs": [],
   "source": [
    "df2.drop(columns=col_to_drop, inplace=True)"
   ]
  },
  {
   "cell_type": "code",
   "execution_count": 8,
   "id": "a9ecc9df",
   "metadata": {},
   "outputs": [],
   "source": [
    "# Removing rows with null values\n",
    "for i in df2.columns:\n",
    "    df2 = df2.loc[df2[i] != -99999]"
   ]
  },
  {
   "cell_type": "code",
   "execution_count": 9,
   "id": "2de5401a",
   "metadata": {},
   "outputs": [
    {
     "name": "stdout",
     "output_type": "stream",
     "text": [
      "(51296, 26) (42066, 54)\n"
     ]
    }
   ],
   "source": [
    "# Display the precision, recall, and F1 score for each class\n",
    "# Display the precision, recall, and F1 score for each class\n",
    "print(df1.shape, df2.shape)"
   ]
  },
  {
   "cell_type": "code",
   "execution_count": 10,
   "id": "bc823146",
   "metadata": {},
   "outputs": [
    {
     "name": "stdout",
     "output_type": "stream",
     "text": [
      "Series([], dtype: int64)\n",
      "Series([], dtype: int64)\n"
     ]
    }
   ],
   "source": [
    "# Checking for any other null values\n",
    "# Check for any missing values in the dataset\n",
    "# Check for any missing values in the dataset\n",
    "print(df1.isnull().sum()[df1.isnull().sum() != 0])\n",
    "# Check for any missing values in the dataset\n",
    "# Check for any missing values in the dataset\n",
    "print(df2.isnull().sum()[df2.isnull().sum() != 0])"
   ]
  },
  {
   "cell_type": "code",
   "execution_count": 11,
   "id": "2ff9192a",
   "metadata": {},
   "outputs": [
    {
     "name": "stdout",
     "output_type": "stream",
     "text": [
      "PROSPECTID\n"
     ]
    }
   ],
   "source": [
    "# Merge both data using key columns\n",
    "for i in list(df1.columns):\n",
    "    if i in list(df2.columns):\n",
    "# Display the precision, recall, and F1 score for each class\n",
    "# Display the precision, recall, and F1 score for each class\n",
    "        print(i)"
   ]
  },
  {
   "cell_type": "code",
   "execution_count": 12,
   "id": "2d5a7fc8",
   "metadata": {},
   "outputs": [],
   "source": [
    "df = pd.merge(df1, df2, how='inner', on=['PROSPECTID'])"
   ]
  },
  {
   "cell_type": "markdown",
   "id": "43177b7b",
   "metadata": {},
   "source": [
    "# Categorical Feature Preprocessing"
   ]
  },
  {
   "cell_type": "code",
   "execution_count": 13,
   "id": "3e69f148",
   "metadata": {},
   "outputs": [
    {
     "name": "stdout",
     "output_type": "stream",
     "text": [
      "['Married' 'Single']\n",
      "['12TH' 'GRADUATE' 'SSC' 'POST-GRADUATE' 'UNDER GRADUATE' 'OTHERS'\n",
      " 'PROFESSIONAL']\n",
      "['M' 'F']\n",
      "['PL' 'ConsumerLoan' 'AL' 'CC' 'others' 'HL']\n",
      "['PL' 'ConsumerLoan' 'others' 'AL' 'HL' 'CC']\n",
      "['P2' 'P1' 'P3' 'P4']\n"
     ]
    }
   ],
   "source": [
    "# Check categorical columns\n",
    "cat_features = []\n",
    "for i in df.columns:\n",
    "    if df[i].dtype == 'object':\n",
    "        cat_features.append(i)\n",
    "        print(df[i].unique())"
   ]
  },
  {
   "cell_type": "code",
   "execution_count": 14,
   "id": "f6b3df03",
   "metadata": {},
   "outputs": [
    {
     "name": "stdout",
     "output_type": "stream",
     "text": [
      "MARITALSTATUS : 3.578180861038862e-233\n",
      "EDUCATION : 2.6942265249737532e-30\n",
      "GENDER : 1.907936100186563e-05\n",
      "last_prod_enq2 : 0.0\n",
      "first_prod_enq2 : 7.84997610555419e-287\n",
      "Approved_Flag : 0.0\n"
     ]
    }
   ],
   "source": [
    "# Check if the categorical columns and Approved_Flag are correlated\n",
    "for i in cat_features:\n",
    "    chi2, pval, _, _ = chi2_contingency(pd.crosstab(df[i], df['Approved_Flag']))\n",
    "    print(i, ':', pval)"
   ]
  },
  {
   "cell_type": "markdown",
   "id": "f5f5e2ab",
   "metadata": {},
   "source": [
    "Every feature shows a p-value below 0.05, meaning they're strongly linked to the output variable and probably crucial for making predictions."
   ]
  },
  {
   "cell_type": "markdown",
   "id": "776ffd2b",
   "metadata": {},
   "source": [
    "# Numerical Feature Preprocessing"
   ]
  },
  {
   "cell_type": "code",
   "execution_count": 15,
   "id": "c9b8ad65",
   "metadata": {},
   "outputs": [],
   "source": [
    "# Check the numerical columns\n",
    "num_features = []\n",
    "for i in df.columns:\n",
    "    if df[i].dtype != 'object' and i != 'PROSPECTID':\n",
    "        num_features.append(i)"
   ]
  },
  {
   "cell_type": "code",
   "execution_count": 16,
   "id": "fc45ee6f",
   "metadata": {
    "scrolled": true
   },
   "outputs": [
    {
     "data": {
      "text/plain": [
       "['Total_TL',\n",
       " 'Tot_Closed_TL',\n",
       " 'Tot_Active_TL',\n",
       " 'Total_TL_opened_L6M',\n",
       " 'Tot_TL_closed_L6M',\n",
       " 'pct_tl_open_L6M',\n",
       " 'pct_tl_closed_L6M',\n",
       " 'pct_active_tl',\n",
       " 'pct_closed_tl',\n",
       " 'Total_TL_opened_L12M',\n",
       " 'Tot_TL_closed_L12M',\n",
       " 'pct_tl_open_L12M',\n",
       " 'pct_tl_closed_L12M',\n",
       " 'Tot_Missed_Pmnt',\n",
       " 'Auto_TL',\n",
       " 'CC_TL',\n",
       " 'Consumer_TL',\n",
       " 'Gold_TL',\n",
       " 'Home_TL',\n",
       " 'PL_TL',\n",
       " 'Secured_TL',\n",
       " 'Unsecured_TL',\n",
       " 'Other_TL',\n",
       " 'Age_Oldest_TL',\n",
       " 'Age_Newest_TL',\n",
       " 'time_since_recent_payment',\n",
       " 'num_times_delinquent',\n",
       " 'max_recent_level_of_deliq',\n",
       " 'num_deliq_6mts',\n",
       " 'num_deliq_12mts',\n",
       " 'num_deliq_6_12mts',\n",
       " 'num_times_30p_dpd',\n",
       " 'num_times_60p_dpd',\n",
       " 'num_std',\n",
       " 'num_std_6mts',\n",
       " 'num_std_12mts',\n",
       " 'num_sub',\n",
       " 'num_sub_6mts',\n",
       " 'num_sub_12mts',\n",
       " 'num_dbt',\n",
       " 'num_dbt_6mts',\n",
       " 'num_dbt_12mts',\n",
       " 'num_lss',\n",
       " 'num_lss_6mts',\n",
       " 'num_lss_12mts',\n",
       " 'recent_level_of_deliq',\n",
       " 'tot_enq',\n",
       " 'CC_enq',\n",
       " 'CC_enq_L6m',\n",
       " 'CC_enq_L12m',\n",
       " 'PL_enq',\n",
       " 'PL_enq_L6m',\n",
       " 'PL_enq_L12m',\n",
       " 'time_since_recent_enq',\n",
       " 'enq_L12m',\n",
       " 'enq_L6m',\n",
       " 'enq_L3m',\n",
       " 'AGE',\n",
       " 'NETMONTHLYINCOME',\n",
       " 'Time_With_Curr_Empr',\n",
       " 'pct_of_active_TLs_ever',\n",
       " 'pct_opened_TLs_L6m_of_L12m',\n",
       " 'pct_currentBal_all_TL',\n",
       " 'CC_Flag',\n",
       " 'PL_Flag',\n",
       " 'pct_PL_enq_L6m_of_L12m',\n",
       " 'pct_CC_enq_L6m_of_L12m',\n",
       " 'pct_PL_enq_L6m_of_ever',\n",
       " 'pct_CC_enq_L6m_of_ever',\n",
       " 'HL_Flag',\n",
       " 'GL_Flag',\n",
       " 'Credit_Score']"
      ]
     },
     "execution_count": 16,
     "metadata": {},
     "output_type": "execute_result"
    }
   ],
   "source": [
    "num_features"
   ]
  },
  {
   "cell_type": "code",
   "execution_count": 17,
   "id": "ad1ab23a",
   "metadata": {},
   "outputs": [],
   "source": [
    "# Calculate the VIF to check for multicolinearity in the features\n",
    "vif_data = df[num_features]\n",
    "total_columns = vif_data.shape[1]\n",
    "columns_to_keep = []\n",
    "column_index = 0"
   ]
  },
  {
   "cell_type": "code",
   "execution_count": 18,
   "id": "15f21751",
   "metadata": {
    "scrolled": true
   },
   "outputs": [
    {
     "name": "stderr",
     "output_type": "stream",
     "text": [
      "C:\\Users\\atulk\\AppData\\Local\\anaconda3\\Lib\\site-packages\\statsmodels\\stats\\outliers_influence.py:198: RuntimeWarning: divide by zero encountered in scalar divide\n",
      "  vif = 1. / (1. - r_squared_i)\n"
     ]
    },
    {
     "name": "stdout",
     "output_type": "stream",
     "text": [
      "0 : inf\n"
     ]
    },
    {
     "name": "stderr",
     "output_type": "stream",
     "text": [
      "C:\\Users\\atulk\\AppData\\Local\\anaconda3\\Lib\\site-packages\\statsmodels\\stats\\outliers_influence.py:198: RuntimeWarning: divide by zero encountered in scalar divide\n",
      "  vif = 1. / (1. - r_squared_i)\n"
     ]
    },
    {
     "name": "stdout",
     "output_type": "stream",
     "text": [
      "0 : inf\n",
      "0 : 11.320180023967996\n",
      "0 : 8.363698035000327\n",
      "0 : 6.520647877790928\n",
      "0 : 5.149501618212625\n",
      "1 : 2.611111040579735\n"
     ]
    },
    {
     "name": "stderr",
     "output_type": "stream",
     "text": [
      "C:\\Users\\atulk\\AppData\\Local\\anaconda3\\Lib\\site-packages\\statsmodels\\stats\\outliers_influence.py:198: RuntimeWarning: divide by zero encountered in scalar divide\n",
      "  vif = 1. / (1. - r_squared_i)\n"
     ]
    },
    {
     "name": "stdout",
     "output_type": "stream",
     "text": [
      "2 : inf\n",
      "2 : 1788.7926256209232\n",
      "2 : 8.601028256477228\n",
      "2 : 3.8328007921530785\n",
      "3 : 6.099653381646739\n",
      "3 : 5.5813520096427585\n",
      "4 : 1.985584353098778\n"
     ]
    },
    {
     "name": "stderr",
     "output_type": "stream",
     "text": [
      "C:\\Users\\atulk\\AppData\\Local\\anaconda3\\Lib\\site-packages\\statsmodels\\stats\\outliers_influence.py:198: RuntimeWarning: divide by zero encountered in scalar divide\n",
      "  vif = 1. / (1. - r_squared_i)\n"
     ]
    },
    {
     "name": "stdout",
     "output_type": "stream",
     "text": [
      "5 : inf\n",
      "5 : 4.809538302819343\n",
      "6 : 23.270628983464636\n",
      "6 : 30.595522588100053\n",
      "6 : 4.3843464059655854\n",
      "7 : 3.0646584155234238\n",
      "8 : 2.898639771299253\n",
      "9 : 4.377876915347324\n",
      "10 : 2.207853583695844\n",
      "11 : 4.916914200506864\n",
      "12 : 5.214702030064725\n",
      "13 : 3.3861625024231476\n",
      "14 : 7.840583309478997\n",
      "14 : 5.255034641721438\n"
     ]
    },
    {
     "name": "stderr",
     "output_type": "stream",
     "text": [
      "C:\\Users\\atulk\\AppData\\Local\\anaconda3\\Lib\\site-packages\\statsmodels\\stats\\outliers_influence.py:198: RuntimeWarning: divide by zero encountered in scalar divide\n",
      "  vif = 1. / (1. - r_squared_i)\n"
     ]
    },
    {
     "name": "stdout",
     "output_type": "stream",
     "text": [
      "15 : inf\n",
      "15 : 7.380634506427232\n",
      "15 : 1.4210050015175733\n",
      "16 : 8.083255010190316\n",
      "16 : 1.6241227524040112\n",
      "17 : 7.257811920140003\n",
      "17 : 15.59624383268298\n",
      "17 : 1.825857047132431\n",
      "18 : 1.5080839450032664\n",
      "19 : 2.172088834824578\n",
      "20 : 2.6233975535272274\n",
      "21 : 2.2959970812106167\n",
      "22 : 7.360578319196446\n",
      "22 : 2.1602387773102554\n",
      "23 : 2.8686288267891467\n",
      "24 : 6.458218003637277\n",
      "24 : 2.8474118865638265\n",
      "25 : 4.753198156284083\n",
      "26 : 16.22735475594825\n",
      "26 : 6.424377256363877\n",
      "26 : 8.887080381808687\n",
      "26 : 2.3804746142952653\n",
      "27 : 8.60951347651454\n",
      "27 : 13.06755093547673\n",
      "27 : 3.500040056654654\n",
      "28 : 1.9087955874813773\n",
      "29 : 17.006562234161628\n",
      "29 : 10.730485153719197\n",
      "29 : 2.3538497522950275\n",
      "30 : 22.104855915136433\n",
      "30 : 2.7971639638512906\n",
      "31 : 3.424171203217696\n",
      "32 : 10.175021454450922\n",
      "32 : 6.408710354561301\n",
      "32 : 1.001151196262562\n",
      "33 : 3.069197305397274\n",
      "34 : 2.8091261600643724\n",
      "35 : 20.249538381980678\n",
      "35 : 15.864576541593774\n",
      "35 : 1.8331649740532172\n",
      "36 : 1.5680839909542037\n",
      "37 : 1.9307572353811682\n",
      "38 : 4.331265056645247\n",
      "39 : 9.390334396150173\n"
     ]
    }
   ],
   "source": [
    "for i in range(0, total_columns):\n",
    "    vif_value = variance_inflation_factor(vif_data, column_index)\n",
    "# Display the precision, recall, and F1 score for each class\n",
    "# Display the precision, recall, and F1 score for each class\n",
    "    print(column_index, ':', vif_value)\n",
    "    \n",
    "    if vif_value <= 6:\n",
    "        columns_to_keep.append(num_features[i])\n",
    "        column_index = column_index + 1\n",
    "        \n",
    "    else:\n",
    "        vif_data = vif_data.drop([num_features[i]], axis=1)"
   ]
  },
  {
   "cell_type": "markdown",
   "id": "5b2a6c6e",
   "metadata": {},
   "source": [
    "After using Variance Inflation Factor (VIF) analysis, we've narrowed down to just 39 features. We set the VIF threshold at 6 to make sure our model is easy to understand, and we want to get rid of any features that are basically saying the same thing as others."
   ]
  },
  {
   "cell_type": "code",
   "execution_count": 19,
   "id": "2bf6b714",
   "metadata": {},
   "outputs": [],
   "source": [
    "# df_data = df.copy()"
   ]
  },
  {
   "cell_type": "code",
   "execution_count": 20,
   "id": "49c46c06",
   "metadata": {},
   "outputs": [],
   "source": [
    "# min_max_data = []\n",
    "# for i in df_data[num_features].columns:\n",
    "#     min_val = min(df_data[i])\n",
    "#     max_val = max(df_data[i])\n",
    "#     min_max_data.append({'Column': i, 'Min Value': min_val, 'Max Value': max_val})\n",
    "# min_max_df = pd.DataFrame(min_max_data)"
   ]
  },
  {
   "cell_type": "code",
   "execution_count": 21,
   "id": "eb4fabd0",
   "metadata": {},
   "outputs": [],
   "source": [
    "# for i in df_data[num_features].columns:\n",
    "#     if max(df_data[i]) <= 127:\n",
    "#         if df[i].dtype not in [\"float16\", \"float32\", \"float64\"]:\n",
    "#             df_data[i] = df_data[i].astype('int8')\n",
    "#         else:\n",
    "#             df_data[i] = df_data[i].astype('float16')\n",
    "#     elif max(df_data[i]) <= 32767:\n",
    "#         if df[i].dtype not in [\"float16\", \"float32\", \"float64\"]:\n",
    "#             df_data[i] = df_data[i].astype('int16')\n",
    "#         else:\n",
    "#             df_data[i] = df_data[i].astype('float16')\n",
    "#     elif max(df_data[i]) <= 2147483647:\n",
    "#         if df[i].dtype not in [\"float16\", \"float32\", \"float64\"]:\n",
    "#             df_data[i] = df_data[i].astype('int32')"
   ]
  },
  {
   "cell_type": "markdown",
   "id": "a7632f1e",
   "metadata": {},
   "source": [
    "Using anova test for feature selection"
   ]
  },
  {
   "cell_type": "code",
   "execution_count": 22,
   "id": "ef26c7a6",
   "metadata": {},
   "outputs": [],
   "source": [
    "# Import necessary libraries\n",
    "# Import necessary libraries\n",
    "from scipy.stats import f_oneway"
   ]
  },
  {
   "cell_type": "code",
   "execution_count": 23,
   "id": "38b3c250",
   "metadata": {},
   "outputs": [],
   "source": [
    "columns_to_be_kept_numerical = []"
   ]
  },
  {
   "cell_type": "code",
   "execution_count": 24,
   "id": "c05a77e4",
   "metadata": {},
   "outputs": [],
   "source": [
    "for i in columns_to_keep:\n",
    "    a = list(df[i])\n",
    "    b = list(df[\"Approved_Flag\"])\n",
    "    group_p1 = [value for value,group in zip(a,b) if group == \"P1\"]\n",
    "    group_p2 = [value for value,group in zip(a,b) if group == \"P2\"]\n",
    "    group_p3 = [value for value,group in zip(a,b) if group == \"P3\"]\n",
    "    group_p4 = [value for value,group in zip(a,b) if group == \"P4\"]\n",
    "    \n",
    "    f_statistic,p_value = f_oneway(group_p1,group_p2,group_p3,group_p4)\n",
    "    \n",
    "    if p_value <= 0.05:\n",
    "        columns_to_be_kept_numerical.append(i)"
   ]
  },
  {
   "cell_type": "markdown",
   "id": "384f5959",
   "metadata": {},
   "source": [
    "All the final features"
   ]
  },
  {
   "cell_type": "code",
   "execution_count": 25,
   "id": "23b5811e",
   "metadata": {},
   "outputs": [],
   "source": [
    "features = columns_to_be_kept_numerical + cat_features\n",
    "df = df[features]"
   ]
  },
  {
   "cell_type": "code",
   "execution_count": 26,
   "id": "0aa84ea4",
   "metadata": {},
   "outputs": [
    {
     "name": "stdout",
     "output_type": "stream",
     "text": [
      "['Married' 'Single']\n",
      "['12TH' 'GRADUATE' 'SSC' 'POST-GRADUATE' 'UNDER GRADUATE' 'OTHERS'\n",
      " 'PROFESSIONAL']\n",
      "['M' 'F']\n",
      "['PL' 'ConsumerLoan' 'AL' 'CC' 'others' 'HL']\n",
      "['PL' 'ConsumerLoan' 'others' 'AL' 'HL' 'CC']\n",
      "['P2' 'P1' 'P3' 'P4']\n"
     ]
    }
   ],
   "source": [
    "# encoding\n",
    "for i in cat_features:\n",
    "    print(df[i].unique())"
   ]
  },
  {
   "cell_type": "code",
   "execution_count": 27,
   "id": "6fdfcca5",
   "metadata": {},
   "outputs": [],
   "source": [
    "df.loc[df['EDUCATION'] == 'SSC',['EDUCATION']]              = 1\n",
    "df.loc[df['EDUCATION'] == '12TH',['EDUCATION']]             = 2\n",
    "df.loc[df['EDUCATION'] == 'GRADUATE',['EDUCATION']]         = 4\n",
    "df.loc[df['EDUCATION'] == 'UNDER GRADUATE',['EDUCATION']]   = 3\n",
    "df.loc[df['EDUCATION'] == 'POST-GRADUATE',['EDUCATION']]    = 5\n",
    "df.loc[df['EDUCATION'] == 'OTHERS',['EDUCATION']]           = 0\n",
    "df.loc[df['EDUCATION'] == 'PROFESSIONAL',['EDUCATION']]     = 6"
   ]
  },
  {
   "cell_type": "code",
   "execution_count": 28,
   "id": "fe5d4097",
   "metadata": {},
   "outputs": [],
   "source": [
    "df['EDUCATION'].value_counts()\n",
    "df['EDUCATION'] = df['EDUCATION'].astype(int)"
   ]
  },
  {
   "cell_type": "code",
   "execution_count": 29,
   "id": "271a6a2e",
   "metadata": {},
   "outputs": [],
   "source": [
    "df_encoded = pd.get_dummies(df, columns=['MARITALSTATUS','GENDER', 'last_prod_enq2' ,'first_prod_enq2'],dtype=\"int8\")"
   ]
  },
  {
   "cell_type": "code",
   "execution_count": 30,
   "id": "a85168b6",
   "metadata": {
    "scrolled": false
   },
   "outputs": [
    {
     "data": {
      "text/html": [
       "<div>\n",
       "<style scoped>\n",
       "    .dataframe tbody tr th:only-of-type {\n",
       "        vertical-align: middle;\n",
       "    }\n",
       "\n",
       "    .dataframe tbody tr th {\n",
       "        vertical-align: top;\n",
       "    }\n",
       "\n",
       "    .dataframe thead th {\n",
       "        text-align: right;\n",
       "    }\n",
       "</style>\n",
       "<table border=\"1\" class=\"dataframe\">\n",
       "  <thead>\n",
       "    <tr style=\"text-align: right;\">\n",
       "      <th></th>\n",
       "      <th>pct_tl_open_L6M</th>\n",
       "      <th>pct_tl_closed_L6M</th>\n",
       "      <th>Tot_TL_closed_L12M</th>\n",
       "      <th>pct_tl_closed_L12M</th>\n",
       "      <th>Tot_Missed_Pmnt</th>\n",
       "      <th>CC_TL</th>\n",
       "      <th>Home_TL</th>\n",
       "      <th>PL_TL</th>\n",
       "      <th>Secured_TL</th>\n",
       "      <th>Unsecured_TL</th>\n",
       "      <th>...</th>\n",
       "      <th>last_prod_enq2_ConsumerLoan</th>\n",
       "      <th>last_prod_enq2_HL</th>\n",
       "      <th>last_prod_enq2_PL</th>\n",
       "      <th>last_prod_enq2_others</th>\n",
       "      <th>first_prod_enq2_AL</th>\n",
       "      <th>first_prod_enq2_CC</th>\n",
       "      <th>first_prod_enq2_ConsumerLoan</th>\n",
       "      <th>first_prod_enq2_HL</th>\n",
       "      <th>first_prod_enq2_PL</th>\n",
       "      <th>first_prod_enq2_others</th>\n",
       "    </tr>\n",
       "  </thead>\n",
       "  <tbody>\n",
       "    <tr>\n",
       "      <th>0</th>\n",
       "      <td>0.000</td>\n",
       "      <td>0.00</td>\n",
       "      <td>0</td>\n",
       "      <td>0.000</td>\n",
       "      <td>0</td>\n",
       "      <td>0</td>\n",
       "      <td>0</td>\n",
       "      <td>4</td>\n",
       "      <td>1</td>\n",
       "      <td>4</td>\n",
       "      <td>...</td>\n",
       "      <td>0</td>\n",
       "      <td>0</td>\n",
       "      <td>1</td>\n",
       "      <td>0</td>\n",
       "      <td>0</td>\n",
       "      <td>0</td>\n",
       "      <td>0</td>\n",
       "      <td>0</td>\n",
       "      <td>1</td>\n",
       "      <td>0</td>\n",
       "    </tr>\n",
       "    <tr>\n",
       "      <th>1</th>\n",
       "      <td>0.000</td>\n",
       "      <td>0.00</td>\n",
       "      <td>0</td>\n",
       "      <td>0.000</td>\n",
       "      <td>0</td>\n",
       "      <td>0</td>\n",
       "      <td>0</td>\n",
       "      <td>0</td>\n",
       "      <td>0</td>\n",
       "      <td>1</td>\n",
       "      <td>...</td>\n",
       "      <td>1</td>\n",
       "      <td>0</td>\n",
       "      <td>0</td>\n",
       "      <td>0</td>\n",
       "      <td>0</td>\n",
       "      <td>0</td>\n",
       "      <td>1</td>\n",
       "      <td>0</td>\n",
       "      <td>0</td>\n",
       "      <td>0</td>\n",
       "    </tr>\n",
       "    <tr>\n",
       "      <th>2</th>\n",
       "      <td>0.125</td>\n",
       "      <td>0.00</td>\n",
       "      <td>0</td>\n",
       "      <td>0.000</td>\n",
       "      <td>1</td>\n",
       "      <td>0</td>\n",
       "      <td>0</td>\n",
       "      <td>0</td>\n",
       "      <td>2</td>\n",
       "      <td>6</td>\n",
       "      <td>...</td>\n",
       "      <td>1</td>\n",
       "      <td>0</td>\n",
       "      <td>0</td>\n",
       "      <td>0</td>\n",
       "      <td>0</td>\n",
       "      <td>0</td>\n",
       "      <td>0</td>\n",
       "      <td>0</td>\n",
       "      <td>0</td>\n",
       "      <td>1</td>\n",
       "    </tr>\n",
       "    <tr>\n",
       "      <th>3</th>\n",
       "      <td>0.000</td>\n",
       "      <td>0.00</td>\n",
       "      <td>0</td>\n",
       "      <td>0.000</td>\n",
       "      <td>0</td>\n",
       "      <td>0</td>\n",
       "      <td>0</td>\n",
       "      <td>0</td>\n",
       "      <td>3</td>\n",
       "      <td>0</td>\n",
       "      <td>...</td>\n",
       "      <td>0</td>\n",
       "      <td>0</td>\n",
       "      <td>0</td>\n",
       "      <td>0</td>\n",
       "      <td>1</td>\n",
       "      <td>0</td>\n",
       "      <td>0</td>\n",
       "      <td>0</td>\n",
       "      <td>0</td>\n",
       "      <td>0</td>\n",
       "    </tr>\n",
       "    <tr>\n",
       "      <th>4</th>\n",
       "      <td>0.000</td>\n",
       "      <td>0.00</td>\n",
       "      <td>1</td>\n",
       "      <td>0.167</td>\n",
       "      <td>0</td>\n",
       "      <td>0</td>\n",
       "      <td>0</td>\n",
       "      <td>0</td>\n",
       "      <td>6</td>\n",
       "      <td>0</td>\n",
       "      <td>...</td>\n",
       "      <td>1</td>\n",
       "      <td>0</td>\n",
       "      <td>0</td>\n",
       "      <td>0</td>\n",
       "      <td>0</td>\n",
       "      <td>0</td>\n",
       "      <td>0</td>\n",
       "      <td>0</td>\n",
       "      <td>1</td>\n",
       "      <td>0</td>\n",
       "    </tr>\n",
       "    <tr>\n",
       "      <th>...</th>\n",
       "      <td>...</td>\n",
       "      <td>...</td>\n",
       "      <td>...</td>\n",
       "      <td>...</td>\n",
       "      <td>...</td>\n",
       "      <td>...</td>\n",
       "      <td>...</td>\n",
       "      <td>...</td>\n",
       "      <td>...</td>\n",
       "      <td>...</td>\n",
       "      <td>...</td>\n",
       "      <td>...</td>\n",
       "      <td>...</td>\n",
       "      <td>...</td>\n",
       "      <td>...</td>\n",
       "      <td>...</td>\n",
       "      <td>...</td>\n",
       "      <td>...</td>\n",
       "      <td>...</td>\n",
       "      <td>...</td>\n",
       "      <td>...</td>\n",
       "    </tr>\n",
       "    <tr>\n",
       "      <th>42059</th>\n",
       "      <td>0.333</td>\n",
       "      <td>0.00</td>\n",
       "      <td>0</td>\n",
       "      <td>0.000</td>\n",
       "      <td>0</td>\n",
       "      <td>0</td>\n",
       "      <td>0</td>\n",
       "      <td>0</td>\n",
       "      <td>0</td>\n",
       "      <td>3</td>\n",
       "      <td>...</td>\n",
       "      <td>1</td>\n",
       "      <td>0</td>\n",
       "      <td>0</td>\n",
       "      <td>0</td>\n",
       "      <td>0</td>\n",
       "      <td>0</td>\n",
       "      <td>1</td>\n",
       "      <td>0</td>\n",
       "      <td>0</td>\n",
       "      <td>0</td>\n",
       "    </tr>\n",
       "    <tr>\n",
       "      <th>42060</th>\n",
       "      <td>0.000</td>\n",
       "      <td>0.25</td>\n",
       "      <td>1</td>\n",
       "      <td>0.250</td>\n",
       "      <td>0</td>\n",
       "      <td>0</td>\n",
       "      <td>0</td>\n",
       "      <td>0</td>\n",
       "      <td>2</td>\n",
       "      <td>2</td>\n",
       "      <td>...</td>\n",
       "      <td>0</td>\n",
       "      <td>0</td>\n",
       "      <td>0</td>\n",
       "      <td>1</td>\n",
       "      <td>0</td>\n",
       "      <td>0</td>\n",
       "      <td>0</td>\n",
       "      <td>0</td>\n",
       "      <td>0</td>\n",
       "      <td>1</td>\n",
       "    </tr>\n",
       "    <tr>\n",
       "      <th>42061</th>\n",
       "      <td>0.500</td>\n",
       "      <td>0.50</td>\n",
       "      <td>1</td>\n",
       "      <td>0.500</td>\n",
       "      <td>0</td>\n",
       "      <td>0</td>\n",
       "      <td>0</td>\n",
       "      <td>0</td>\n",
       "      <td>0</td>\n",
       "      <td>2</td>\n",
       "      <td>...</td>\n",
       "      <td>1</td>\n",
       "      <td>0</td>\n",
       "      <td>0</td>\n",
       "      <td>0</td>\n",
       "      <td>0</td>\n",
       "      <td>0</td>\n",
       "      <td>0</td>\n",
       "      <td>0</td>\n",
       "      <td>0</td>\n",
       "      <td>1</td>\n",
       "    </tr>\n",
       "    <tr>\n",
       "      <th>42062</th>\n",
       "      <td>0.000</td>\n",
       "      <td>0.00</td>\n",
       "      <td>1</td>\n",
       "      <td>0.500</td>\n",
       "      <td>0</td>\n",
       "      <td>0</td>\n",
       "      <td>0</td>\n",
       "      <td>0</td>\n",
       "      <td>0</td>\n",
       "      <td>2</td>\n",
       "      <td>...</td>\n",
       "      <td>1</td>\n",
       "      <td>0</td>\n",
       "      <td>0</td>\n",
       "      <td>0</td>\n",
       "      <td>0</td>\n",
       "      <td>0</td>\n",
       "      <td>0</td>\n",
       "      <td>0</td>\n",
       "      <td>0</td>\n",
       "      <td>1</td>\n",
       "    </tr>\n",
       "    <tr>\n",
       "      <th>42063</th>\n",
       "      <td>0.000</td>\n",
       "      <td>0.00</td>\n",
       "      <td>0</td>\n",
       "      <td>0.000</td>\n",
       "      <td>0</td>\n",
       "      <td>0</td>\n",
       "      <td>0</td>\n",
       "      <td>0</td>\n",
       "      <td>1</td>\n",
       "      <td>0</td>\n",
       "      <td>...</td>\n",
       "      <td>0</td>\n",
       "      <td>0</td>\n",
       "      <td>0</td>\n",
       "      <td>1</td>\n",
       "      <td>0</td>\n",
       "      <td>0</td>\n",
       "      <td>0</td>\n",
       "      <td>0</td>\n",
       "      <td>0</td>\n",
       "      <td>1</td>\n",
       "    </tr>\n",
       "  </tbody>\n",
       "</table>\n",
       "<p>42064 rows × 55 columns</p>\n",
       "</div>"
      ],
      "text/plain": [
       "       pct_tl_open_L6M  pct_tl_closed_L6M  Tot_TL_closed_L12M  \\\n",
       "0                0.000               0.00                   0   \n",
       "1                0.000               0.00                   0   \n",
       "2                0.125               0.00                   0   \n",
       "3                0.000               0.00                   0   \n",
       "4                0.000               0.00                   1   \n",
       "...                ...                ...                 ...   \n",
       "42059            0.333               0.00                   0   \n",
       "42060            0.000               0.25                   1   \n",
       "42061            0.500               0.50                   1   \n",
       "42062            0.000               0.00                   1   \n",
       "42063            0.000               0.00                   0   \n",
       "\n",
       "       pct_tl_closed_L12M  Tot_Missed_Pmnt  CC_TL  Home_TL  PL_TL  Secured_TL  \\\n",
       "0                   0.000                0      0        0      4           1   \n",
       "1                   0.000                0      0        0      0           0   \n",
       "2                   0.000                1      0        0      0           2   \n",
       "3                   0.000                0      0        0      0           3   \n",
       "4                   0.167                0      0        0      0           6   \n",
       "...                   ...              ...    ...      ...    ...         ...   \n",
       "42059               0.000                0      0        0      0           0   \n",
       "42060               0.250                0      0        0      0           2   \n",
       "42061               0.500                0      0        0      0           0   \n",
       "42062               0.500                0      0        0      0           0   \n",
       "42063               0.000                0      0        0      0           1   \n",
       "\n",
       "       Unsecured_TL  ...  last_prod_enq2_ConsumerLoan  last_prod_enq2_HL  \\\n",
       "0                 4  ...                            0                  0   \n",
       "1                 1  ...                            1                  0   \n",
       "2                 6  ...                            1                  0   \n",
       "3                 0  ...                            0                  0   \n",
       "4                 0  ...                            1                  0   \n",
       "...             ...  ...                          ...                ...   \n",
       "42059             3  ...                            1                  0   \n",
       "42060             2  ...                            0                  0   \n",
       "42061             2  ...                            1                  0   \n",
       "42062             2  ...                            1                  0   \n",
       "42063             0  ...                            0                  0   \n",
       "\n",
       "       last_prod_enq2_PL  last_prod_enq2_others  first_prod_enq2_AL  \\\n",
       "0                      1                      0                   0   \n",
       "1                      0                      0                   0   \n",
       "2                      0                      0                   0   \n",
       "3                      0                      0                   1   \n",
       "4                      0                      0                   0   \n",
       "...                  ...                    ...                 ...   \n",
       "42059                  0                      0                   0   \n",
       "42060                  0                      1                   0   \n",
       "42061                  0                      0                   0   \n",
       "42062                  0                      0                   0   \n",
       "42063                  0                      1                   0   \n",
       "\n",
       "       first_prod_enq2_CC  first_prod_enq2_ConsumerLoan  first_prod_enq2_HL  \\\n",
       "0                       0                             0                   0   \n",
       "1                       0                             1                   0   \n",
       "2                       0                             0                   0   \n",
       "3                       0                             0                   0   \n",
       "4                       0                             0                   0   \n",
       "...                   ...                           ...                 ...   \n",
       "42059                   0                             1                   0   \n",
       "42060                   0                             0                   0   \n",
       "42061                   0                             0                   0   \n",
       "42062                   0                             0                   0   \n",
       "42063                   0                             0                   0   \n",
       "\n",
       "       first_prod_enq2_PL  first_prod_enq2_others  \n",
       "0                       1                       0  \n",
       "1                       0                       0  \n",
       "2                       0                       1  \n",
       "3                       0                       0  \n",
       "4                       1                       0  \n",
       "...                   ...                     ...  \n",
       "42059                   0                       0  \n",
       "42060                   0                       1  \n",
       "42061                   0                       1  \n",
       "42062                   0                       1  \n",
       "42063                   0                       1  \n",
       "\n",
       "[42064 rows x 55 columns]"
      ]
     },
     "execution_count": 30,
     "metadata": {},
     "output_type": "execute_result"
    }
   ],
   "source": [
    "df_encoded"
   ]
  },
  {
   "cell_type": "code",
   "execution_count": 31,
   "id": "09c97a94",
   "metadata": {},
   "outputs": [],
   "source": [
    "y = df_encoded[\"Approved_Flag\"]\n",
    "X = df_encoded.drop([\"Approved_Flag\"],axis=1)"
   ]
  },
  {
   "cell_type": "code",
   "execution_count": 32,
   "id": "94e44e45",
   "metadata": {},
   "outputs": [],
   "source": [
    "# Split the data into training and testing sets\n",
    "X_train,X_test,y_train,y_test = train_test_split(X,y,test_size=0.2,random_state=42)"
   ]
  },
  {
   "cell_type": "code",
   "execution_count": 33,
   "id": "377551a9",
   "metadata": {},
   "outputs": [],
   "source": [
    "# Initialize the RandomForestClassifier with 200 trees\n",
    "rf_classifier = RandomForestClassifier(n_estimators=200,random_state=42)"
   ]
  },
  {
   "cell_type": "code",
   "execution_count": 34,
   "id": "e3c7cd89",
   "metadata": {},
   "outputs": [
    {
     "data": {
      "text/html": [
       "<style>#sk-container-id-1 {color: black;}#sk-container-id-1 pre{padding: 0;}#sk-container-id-1 div.sk-toggleable {background-color: white;}#sk-container-id-1 label.sk-toggleable__label {cursor: pointer;display: block;width: 100%;margin-bottom: 0;padding: 0.3em;box-sizing: border-box;text-align: center;}#sk-container-id-1 label.sk-toggleable__label-arrow:before {content: \"▸\";float: left;margin-right: 0.25em;color: #696969;}#sk-container-id-1 label.sk-toggleable__label-arrow:hover:before {color: black;}#sk-container-id-1 div.sk-estimator:hover label.sk-toggleable__label-arrow:before {color: black;}#sk-container-id-1 div.sk-toggleable__content {max-height: 0;max-width: 0;overflow: hidden;text-align: left;background-color: #f0f8ff;}#sk-container-id-1 div.sk-toggleable__content pre {margin: 0.2em;color: black;border-radius: 0.25em;background-color: #f0f8ff;}#sk-container-id-1 input.sk-toggleable__control:checked~div.sk-toggleable__content {max-height: 200px;max-width: 100%;overflow: auto;}#sk-container-id-1 input.sk-toggleable__control:checked~label.sk-toggleable__label-arrow:before {content: \"▾\";}#sk-container-id-1 div.sk-estimator input.sk-toggleable__control:checked~label.sk-toggleable__label {background-color: #d4ebff;}#sk-container-id-1 div.sk-label input.sk-toggleable__control:checked~label.sk-toggleable__label {background-color: #d4ebff;}#sk-container-id-1 input.sk-hidden--visually {border: 0;clip: rect(1px 1px 1px 1px);clip: rect(1px, 1px, 1px, 1px);height: 1px;margin: -1px;overflow: hidden;padding: 0;position: absolute;width: 1px;}#sk-container-id-1 div.sk-estimator {font-family: monospace;background-color: #f0f8ff;border: 1px dotted black;border-radius: 0.25em;box-sizing: border-box;margin-bottom: 0.5em;}#sk-container-id-1 div.sk-estimator:hover {background-color: #d4ebff;}#sk-container-id-1 div.sk-parallel-item::after {content: \"\";width: 100%;border-bottom: 1px solid gray;flex-grow: 1;}#sk-container-id-1 div.sk-label:hover label.sk-toggleable__label {background-color: #d4ebff;}#sk-container-id-1 div.sk-serial::before {content: \"\";position: absolute;border-left: 1px solid gray;box-sizing: border-box;top: 0;bottom: 0;left: 50%;z-index: 0;}#sk-container-id-1 div.sk-serial {display: flex;flex-direction: column;align-items: center;background-color: white;padding-right: 0.2em;padding-left: 0.2em;position: relative;}#sk-container-id-1 div.sk-item {position: relative;z-index: 1;}#sk-container-id-1 div.sk-parallel {display: flex;align-items: stretch;justify-content: center;background-color: white;position: relative;}#sk-container-id-1 div.sk-item::before, #sk-container-id-1 div.sk-parallel-item::before {content: \"\";position: absolute;border-left: 1px solid gray;box-sizing: border-box;top: 0;bottom: 0;left: 50%;z-index: -1;}#sk-container-id-1 div.sk-parallel-item {display: flex;flex-direction: column;z-index: 1;position: relative;background-color: white;}#sk-container-id-1 div.sk-parallel-item:first-child::after {align-self: flex-end;width: 50%;}#sk-container-id-1 div.sk-parallel-item:last-child::after {align-self: flex-start;width: 50%;}#sk-container-id-1 div.sk-parallel-item:only-child::after {width: 0;}#sk-container-id-1 div.sk-dashed-wrapped {border: 1px dashed gray;margin: 0 0.4em 0.5em 0.4em;box-sizing: border-box;padding-bottom: 0.4em;background-color: white;}#sk-container-id-1 div.sk-label label {font-family: monospace;font-weight: bold;display: inline-block;line-height: 1.2em;}#sk-container-id-1 div.sk-label-container {text-align: center;}#sk-container-id-1 div.sk-container {/* jupyter's `normalize.less` sets `[hidden] { display: none; }` but bootstrap.min.css set `[hidden] { display: none !important; }` so we also need the `!important` here to be able to override the default hidden behavior on the sphinx rendered scikit-learn.org. See: https://github.com/scikit-learn/scikit-learn/issues/21755 */display: inline-block !important;position: relative;}#sk-container-id-1 div.sk-text-repr-fallback {display: none;}</style><div id=\"sk-container-id-1\" class=\"sk-top-container\"><div class=\"sk-text-repr-fallback\"><pre>RandomForestClassifier(n_estimators=200, random_state=42)</pre><b>In a Jupyter environment, please rerun this cell to show the HTML representation or trust the notebook. <br />On GitHub, the HTML representation is unable to render, please try loading this page with nbviewer.org.</b></div><div class=\"sk-container\" hidden><div class=\"sk-item\"><div class=\"sk-estimator sk-toggleable\"><input class=\"sk-toggleable__control sk-hidden--visually\" id=\"sk-estimator-id-1\" type=\"checkbox\" checked><label for=\"sk-estimator-id-1\" class=\"sk-toggleable__label sk-toggleable__label-arrow\">RandomForestClassifier</label><div class=\"sk-toggleable__content\"><pre>RandomForestClassifier(n_estimators=200, random_state=42)</pre></div></div></div></div></div>"
      ],
      "text/plain": [
       "RandomForestClassifier(n_estimators=200, random_state=42)"
      ]
     },
     "execution_count": 34,
     "metadata": {},
     "output_type": "execute_result"
    }
   ],
   "source": [
    "# Train the RandomForest model\n",
    "rf_classifier.fit(X_train,y_train)"
   ]
  },
  {
   "cell_type": "code",
   "execution_count": 35,
   "id": "9ab73c3b",
   "metadata": {},
   "outputs": [],
   "source": [
    "y_pred = rf_classifier.predict(X_test)"
   ]
  },
  {
   "cell_type": "code",
   "execution_count": 36,
   "id": "ec9a8dc4",
   "metadata": {},
   "outputs": [],
   "source": [
    "# Display the accuracy\n",
    "accuracy = accuracy_score(y_test,y_pred)"
   ]
  },
  {
   "cell_type": "code",
   "execution_count": 37,
   "id": "d8f90d59",
   "metadata": {},
   "outputs": [
    {
     "data": {
      "text/plain": [
       "0.7650065375014858"
      ]
     },
     "execution_count": 37,
     "metadata": {},
     "output_type": "execute_result"
    }
   ],
   "source": [
    "accuracy"
   ]
  },
  {
   "cell_type": "code",
   "execution_count": 38,
   "id": "b39be1ba",
   "metadata": {},
   "outputs": [],
   "source": [
    "precision,recall,f1_score,_ = precision_recall_fscore_support(y_test,y_pred)"
   ]
  },
  {
   "cell_type": "code",
   "execution_count": 39,
   "id": "b595ab8e",
   "metadata": {
    "scrolled": true
   },
   "outputs": [
    {
     "name": "stdout",
     "output_type": "stream",
     "text": [
      "Class p1:\n",
      "Precision: 0.8416075650118203\n",
      "Recall: 0.7021696252465484\n",
      "F1 Score: 0.7655913978494624\n",
      "Class p2:\n",
      "Precision: 0.7959390862944162\n",
      "Recall: 0.932408325074331\n",
      "F1 Score: 0.8587859424920127\n",
      "Class p3:\n",
      "Precision: 0.4472843450479233\n",
      "Recall: 0.21132075471698114\n",
      "F1 Score: 0.2870322911327524\n",
      "Class p4:\n",
      "Precision: 0.7177497575169738\n",
      "Recall: 0.7191448007774538\n",
      "F1 Score: 0.7184466019417475\n"
     ]
    }
   ],
   "source": [
    "for i,v in enumerate([\"p1\",\"p2\",\"p3\",\"p4\"]):\n",
    "    print(f\"Class {v}:\")\n",
    "    print(f\"Precision: {precision[i]}\")\n",
    "    print(f\"Recall: {recall[i]}\")\n",
    "    print(f\"F1 Score: {f1_score[i]}\")            "
   ]
  },
  {
   "cell_type": "markdown",
   "id": "c8555cc8",
   "metadata": {},
   "source": [
    "Using Random Forest, we are achieving an accuracy score of 70%."
   ]
  },
  {
   "cell_type": "code",
   "execution_count": 40,
   "id": "759589cf",
   "metadata": {},
   "outputs": [],
   "source": [
    "# XGboost \n",
    "import xgboost as xgb\n",
    "from sklearn.preprocessing import LabelEncoder"
   ]
  },
  {
   "cell_type": "code",
   "execution_count": 41,
   "id": "4f2301d2",
   "metadata": {},
   "outputs": [],
   "source": [
    "xgb_classifier = xgb.XGBClassifier(objective='multi.softmax',num_class=4)"
   ]
  },
  {
   "cell_type": "code",
   "execution_count": 42,
   "id": "1f2f54d9",
   "metadata": {},
   "outputs": [],
   "source": [
    "y = df_encoded[\"Approved_Flag\"]\n",
    "X = df_encoded.drop([\"Approved_Flag\"],axis=1)"
   ]
  },
  {
   "cell_type": "code",
   "execution_count": 43,
   "id": "9e03c557",
   "metadata": {},
   "outputs": [],
   "source": [
    "label_encoder = LabelEncoder()\n",
    "y_encoded = label_encoder.fit_transform(y)"
   ]
  },
  {
   "cell_type": "code",
   "execution_count": 44,
   "id": "cadd6df2",
   "metadata": {},
   "outputs": [],
   "source": [
    "# Split the data into training and testing sets\n",
    "X_train,X_test,y_train,y_test = train_test_split(X,y_encoded,test_size=0.2,random_state=42)"
   ]
  },
  {
   "cell_type": "code",
   "execution_count": 45,
   "id": "c5aac6ce",
   "metadata": {},
   "outputs": [],
   "source": [
    "xgb_classifier.fit(X_train,y_train)\n",
    "y_pred  = xgb_classifier.predict(X_test)"
   ]
  },
  {
   "cell_type": "code",
   "execution_count": 46,
   "id": "2ecb4d90",
   "metadata": {},
   "outputs": [],
   "source": [
    "accuracy = accuracy_score(y_test,y_pred)"
   ]
  },
  {
   "cell_type": "code",
   "execution_count": 47,
   "id": "1e82f9d0",
   "metadata": {},
   "outputs": [
    {
     "data": {
      "text/plain": [
       "0.7733269939379531"
      ]
     },
     "execution_count": 47,
     "metadata": {},
     "output_type": "execute_result"
    }
   ],
   "source": [
    "accuracy"
   ]
  },
  {
   "cell_type": "code",
   "execution_count": 48,
   "id": "a67ed36a",
   "metadata": {},
   "outputs": [],
   "source": [
    "precision,recall,f1_score,_ = precision_recall_fscore_support(y_test,y_pred)"
   ]
  },
  {
   "cell_type": "code",
   "execution_count": 49,
   "id": "c2b867b2",
   "metadata": {
    "scrolled": false
   },
   "outputs": [
    {
     "name": "stdout",
     "output_type": "stream",
     "text": [
      "Class p1:\n",
      "Precision: 0.8300865800865801\n",
      "Recall: 0.7564102564102564\n",
      "F1 Score: 0.7915376676986583\n",
      "Class p2:\n",
      "Precision: 0.8212310437109723\n",
      "Recall: 0.912388503468781\n",
      "F1 Score: 0.8644131455399061\n",
      "Class p3:\n",
      "Precision: 0.4515752625437573\n",
      "Recall: 0.2920754716981132\n",
      "F1 Score: 0.35472043996333635\n",
      "Class p4:\n",
      "Precision: 0.7293086660175268\n",
      "Recall: 0.7278911564625851\n",
      "F1 Score: 0.7285992217898833\n"
     ]
    }
   ],
   "source": [
    "for i,v in enumerate([\"p1\",\"p2\",\"p3\",\"p4\"]):\n",
    "    print(f\"Class {v}:\")\n",
    "    print(f\"Precision: {precision[i]}\")\n",
    "    print(f\"Recall: {recall[i]}\")\n",
    "    print(f\"F1 Score: {f1_score[i]}\")"
   ]
  },
  {
   "cell_type": "markdown",
   "id": "c63867a9",
   "metadata": {},
   "source": [
    "The accuracy score of XGBoost is 77%."
   ]
  },
  {
   "cell_type": "markdown",
   "id": "f67f81d9",
   "metadata": {},
   "source": [
    "If the data is heavily imbalanced, use recall and precision. If the data is balanced, use the accuracy score."
   ]
  },
  {
   "cell_type": "markdown",
   "id": "7c07287a",
   "metadata": {},
   "source": [
    "Hyperparameter Tuning  for XGboost "
   ]
  },
  {
   "cell_type": "code",
   "execution_count": 50,
   "id": "651e3dd8",
   "metadata": {},
   "outputs": [
    {
     "name": "stdout",
     "output_type": "stream",
     "text": [
      "Best hyperparameters: {'colsample_bytree': 0.6, 'learning_rate': 0.1, 'max_depth': 5, 'n_estimators': 200}\n"
     ]
    }
   ],
   "source": [
    "from sklearn.model_selection import GridSearchCV\n",
    "X_train,X_test,y_train,y_test = train_test_split(X,y_encoded,test_size=0.2,random_state=42)\n",
    "\n",
    "xgb_model = xgb.XGBClassifier(objective=\"multi:softmax\",num_class = 4)\n",
    "\n",
    "param_grid = {\n",
    "    'colsample_bytree': [0.3, 0.6, 1],\n",
    "    'learning_rate': [0.001, 0.01, 0.1],\n",
    "    'max_depth': [3, 5, 10],\n",
    "    'n_estimators': [50, 100, 200]\n",
    "}\n",
    "\n",
    "grid_search = GridSearchCV(estimator=xgb_model,param_grid=param_grid,cv=3,scoring=\"accuracy\",n_jobs=-1)\n",
    "grid_search.fit(X_train,y_train)\n",
    "print(f\"Best hyperparameters: {grid_search.best_params_}\")"
   ]
  },
  {
   "cell_type": "markdown",
   "id": "d3706cfc",
   "metadata": {},
   "source": [
    "<b> Best hyperparameters </b>: {'colsample_bytree': 0.9, 'learning_rate': 1, 'max_depth': 3,\"alpha\":10 'n_estimators': 100}"
   ]
  },
  {
   "cell_type": "code",
   "execution_count": 51,
   "id": "2e05a725",
   "metadata": {},
   "outputs": [
    {
     "name": "stdout",
     "output_type": "stream",
     "text": [
      "Test Accuracy: 0.7786758587899679\n"
     ]
    }
   ],
   "source": [
    "best_model = grid_search.best_estimator_\n",
    "accuracy = best_model.score(X_test,y_test)\n",
    "print(\"Test Accuracy:\", accuracy)"
   ]
  },
  {
   "cell_type": "code",
   "execution_count": 52,
   "id": "e171d11b",
   "metadata": {},
   "outputs": [],
   "source": [
    "Unseen_Dataset = pd.read_excel(\"data/Unseen_Dataset.xlsx\")"
   ]
  },
  {
   "cell_type": "code",
   "execution_count": 53,
   "id": "7b8f4b5f",
   "metadata": {},
   "outputs": [],
   "source": [
    "Unseen_Dataset.loc[Unseen_Dataset['EDUCATION'] == 'SSC',['EDUCATION']]              = 1\n",
    "Unseen_Dataset.loc[Unseen_Dataset['EDUCATION'] == '12TH',['EDUCATION']]             = 2\n",
    "Unseen_Dataset.loc[Unseen_Dataset['EDUCATION'] == 'GRADUATE',['EDUCATION']]         = 4\n",
    "Unseen_Dataset.loc[Unseen_Dataset['EDUCATION'] == 'UNDER GRADUATE',['EDUCATION']]   = 3\n",
    "Unseen_Dataset.loc[Unseen_Dataset['EDUCATION'] == 'POST-GRADUATE',['EDUCATION']]    = 5\n",
    "Unseen_Dataset.loc[Unseen_Dataset['EDUCATION'] == 'OTHERS',['EDUCATION']]           = 0\n",
    "Unseen_Dataset.loc[Unseen_Dataset['EDUCATION'] == 'PROFESSIONAL',['EDUCATION']]     = 6"
   ]
  },
  {
   "cell_type": "code",
   "execution_count": 54,
   "id": "480d3eb7",
   "metadata": {},
   "outputs": [],
   "source": [
    "Unseen_Dataset['EDUCATION'] = Unseen_Dataset['EDUCATION'].astype(int)"
   ]
  },
  {
   "cell_type": "code",
   "execution_count": 55,
   "id": "02dda728",
   "metadata": {},
   "outputs": [],
   "source": [
    "df_encoded = pd.get_dummies(Unseen_Dataset, columns=['MARITALSTATUS','GENDER', 'last_prod_enq2' ,'first_prod_enq2'],dtype=\"int8\")"
   ]
  },
  {
   "cell_type": "code",
   "execution_count": 56,
   "id": "d4414d22",
   "metadata": {},
   "outputs": [
    {
     "data": {
      "text/plain": [
       "(100, 54)"
      ]
     },
     "execution_count": 56,
     "metadata": {},
     "output_type": "execute_result"
    }
   ],
   "source": [
    "df_encoded.shape"
   ]
  },
  {
   "cell_type": "code",
   "execution_count": 57,
   "id": "3f556940",
   "metadata": {},
   "outputs": [],
   "source": [
    "Unseen_Dataset_result =pd.DataFrame(best_model.predict(df_encoded))"
   ]
  },
  {
   "cell_type": "code",
   "execution_count": 58,
   "id": "759f4086",
   "metadata": {},
   "outputs": [
    {
     "data": {
      "text/plain": [
       "0\n",
       "1    72\n",
       "3    12\n",
       "2     9\n",
       "0     7\n",
       "Name: count, dtype: int64"
      ]
     },
     "execution_count": 58,
     "metadata": {},
     "output_type": "execute_result"
    }
   ],
   "source": [
    "Unseen_Dataset_result.value_counts()"
   ]
  },
  {
   "cell_type": "code",
   "execution_count": 60,
   "id": "a6c42e13",
   "metadata": {},
   "outputs": [
    {
     "ename": "NameError",
     "evalue": "name 'model' is not defined",
     "output_type": "error",
     "traceback": [
      "\u001b[1;31m---------------------------------------------------------------------------\u001b[0m",
      "\u001b[1;31mNameError\u001b[0m                                 Traceback (most recent call last)",
      "Cell \u001b[1;32mIn[60], line 5\u001b[0m\n\u001b[0;32m      3\u001b[0m \u001b[38;5;66;03m# Assuming your model is named 'model'\u001b[39;00m\n\u001b[0;32m      4\u001b[0m filename \u001b[38;5;241m=\u001b[39m \u001b[38;5;124m'\u001b[39m\u001b[38;5;124mfinalized_model.sav\u001b[39m\u001b[38;5;124m'\u001b[39m\n\u001b[1;32m----> 5\u001b[0m pickle\u001b[38;5;241m.\u001b[39mdump(model, \u001b[38;5;28mopen\u001b[39m(filename, \u001b[38;5;124m'\u001b[39m\u001b[38;5;124mwb\u001b[39m\u001b[38;5;124m'\u001b[39m))\n",
      "\u001b[1;31mNameError\u001b[0m: name 'model' is not defined"
     ]
    }
   ],
   "source": [
    "# import pickle\n",
    "\n",
    "# # Assuming your model is named 'model'\n",
    "# filename = 'finalized_model.sav'\n",
    "# pickle.dump(model, open(filename, 'wb'))"
   ]
  },
  {
   "cell_type": "code",
   "execution_count": null,
   "id": "9a843b2a",
   "metadata": {},
   "outputs": [],
   "source": []
  }
 ],
 "metadata": {
  "kernelspec": {
   "display_name": "Python 3 (ipykernel)",
   "language": "python",
   "name": "python3"
  },
  "language_info": {
   "codemirror_mode": {
    "name": "ipython",
    "version": 3
   },
   "file_extension": ".py",
   "mimetype": "text/x-python",
   "name": "python",
   "nbconvert_exporter": "python",
   "pygments_lexer": "ipython3",
   "version": "3.11.5"
  }
 },
 "nbformat": 4,
 "nbformat_minor": 5
}
